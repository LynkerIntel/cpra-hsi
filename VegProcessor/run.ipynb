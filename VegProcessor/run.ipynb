{
 "cells": [
  {
   "cell_type": "code",
   "execution_count": 1,
   "metadata": {},
   "outputs": [],
   "source": [
    "import xarray as xr\n",
    "import numpy as np\n",
    "import pandas as pd\n",
    "import veg_transition\n",
    "import glob\n",
    "from pathlib import Path\n",
    "\n",
    "import utils\n",
    "\n",
    "import matplotlib.pyplot as plt"
   ]
  },
  {
   "cell_type": "code",
   "execution_count": 3,
   "metadata": {},
   "outputs": [],
   "source": [
    "paths = glob.glob(\"./sequences/*.csv\")\n",
    "\n",
    "\n",
    "years_mapping = {\n",
    "    1: 2006,\n",
    "    2: 2023,\n",
    "    3: 2022,\n",
    "    4: 2021,\n",
    "    5: 2019,\n",
    "}\n",
    "\n",
    "seqs = {}\n",
    "for p in paths:\n",
    "    name = Path(p).stem\n",
    "    seqs[name] = pd.read_csv(p, skiprows=1)"
   ]
  },
  {
   "cell_type": "code",
   "execution_count": null,
   "metadata": {},
   "outputs": [],
   "source": [
    "# Define the source and output folder paths\n",
    "# source_folder = \"/Users/dillonragar/data/tmp/cpra/AMP_SimulationResults/\"\n",
    "source_folder = \"/Users/dillonragar/data/cpra/AMP_SimulationResults/base/\"\n",
    "output_folder = \"/Users/dillonragar/data/tmp/cpra/base-sequence-wet/\"\n",
    "# Generate the combined sequence\n",
    "utils.generate_combined_sequence(\n",
    "    seqs[\"wet_sequence\"],\n",
    "    years_mapping,\n",
    "    source_folder,\n",
    "    output_folder,\n",
    ")\n",
    "\n",
    "\n",
    "output_folder = \"/Users/dillonragar/data/tmp/cpra/base-sequence-dry/\"\n",
    "# Generate the combined sequence\n",
    "utils.generate_combined_sequence(\n",
    "    seqs[\"dry_sequence\"],\n",
    "    years_mapping,\n",
    "    source_folder,\n",
    "    output_folder,\n",
    ")\n",
    "\n",
    "\n",
    "output_folder = \"/Users/dillonragar/data/tmp/cpra/base-sequence-moderate/\"\n",
    "# Generate the combined sequence\n",
    "utils.generate_combined_sequence(\n",
    "    seqs[\"moderate_sequence\"],\n",
    "    years_mapping,\n",
    "    source_folder,\n",
    "    output_folder,\n",
    ")"
   ]
  },
  {
   "cell_type": "code",
   "execution_count": null,
   "metadata": {},
   "outputs": [],
   "source": [
    "# Define the source and output folder paths\n",
    "# source_folder = \"/Users/dillonragar/data/tmp/cpra/AMP_SimulationResults/\"\n",
    "source_folder = \"/Users/dillonragar/data/cpra/AMP_SimulationResults/2ft_slr/\"\n",
    "output_folder = \"/Users/dillonragar/data/tmp/cpra/2ft-slr-sequence-wet/\"\n",
    "# Generate the combined sequence\n",
    "utils.generate_combined_sequence(\n",
    "    seqs[\"wet_sequence\"],\n",
    "    years_mapping,\n",
    "    source_folder,\n",
    "    output_folder,\n",
    ")\n",
    "\n",
    "\n",
    "output_folder = \"/Users/dillonragar/data/tmp/cpra/2ft-slr-sequence-dry/\"\n",
    "# Generate the combined sequence\n",
    "utils.generate_combined_sequence(\n",
    "    seqs[\"dry_sequence\"],\n",
    "    years_mapping,\n",
    "    source_folder,\n",
    "    output_folder,\n",
    ")\n",
    "\n",
    "\n",
    "output_folder = \"/Users/dillonragar/data/tmp/cpra/2ft-slr-sequence-moderate/\"\n",
    "# Generate the combined sequence\n",
    "utils.generate_combined_sequence(\n",
    "    seqs[\"moderate_sequence\"],\n",
    "    years_mapping,\n",
    "    source_folder,\n",
    "    output_folder,\n",
    ")"
   ]
  },
  {
   "cell_type": "code",
   "execution_count": 2,
   "metadata": {},
   "outputs": [
    {
     "name": "stderr",
     "output_type": "stream",
     "text": [
      "2024-12-15 17:50:11,556 - VegTransition - INFO - [Timestep: N/A] - Logger setup complete.\n",
      "2024-12-15 17:50:11,557 - VegTransition - INFO - [Timestep: N/A] - Loaded Configuration:\n",
      "raster_data:\n",
      "  dem_path: /Users/dillonragar/data/cpra/AMP_NGOM2_DEM_60m_Bilinear_Resample.tif\n",
      "  wse_directory_path: /Users/dillonragar/data/tmp/cpra/2ft-slr-sequence-wet\n",
      "  veg_base_raster: /Users/dillonragar/data/cpra/AMP_10km_LULC_60m_Nearest_Resample/AMP_10kmBuffer_LULC_60m_Nearest_Resample.tif\n",
      "  veg_keys: /Users/dillonragar/data/cpra/AMP_10km_LULC_60m_Nearest_Resample/AMP_10kmBuffer_LULC_60m_Nearest_Resample.tif.vat.dbf\n",
      "  salinity_raster: null\n",
      "simulation:\n",
      "  water_year_start: 1999\n",
      "  water_year_end: 2023\n",
      "  wse_sequence_input: true\n",
      "  scenario_type: +2ft SLR - Wet\n",
      "output:\n",
      "  output_base: /Users/dillonragar/data/cpra/\n",
      "\n",
      "2024-12-15 17:50:11,577 - VegTransition - INFO - [Timestep: N/A] - Model code version from git: 5ec4e5ade6481e1bad3729e99815f6ffb956f0a1\n",
      "2024-12-15 17:50:11,707 - VegTransition - INFO - [Timestep: N/A] - Loaded DEM\n",
      "2024-12-15 17:50:11,853 - VegTransition - INFO - [Timestep: N/A] - Loaded initial vegetation raster\n",
      "2024-12-15 17:50:11,854 - VegTransition - INFO - [Timestep: N/A] - Subsetting initial vegetation raster to allowed types\n",
      "2024-12-15 17:50:11,886 - VegTransition - INFO - [Timestep: N/A] - Masking vegetation raster to valid DEM pixels\n",
      "2024-12-15 17:50:11,919 - VegTransition - INFO - [Timestep: N/A] - Loaded Vegetation Keys\n",
      "2024-12-15 17:50:11,928 - VegTransition - INFO - [Timestep: N/A] - Creating salinity from habitat defaults\n"
     ]
    }
   ],
   "source": [
    "Veg = veg_transition.VegTransition(config_file=\"./configs/veg_config_2ft_slr_wet.yaml\")"
   ]
  },
  {
   "cell_type": "code",
   "execution_count": null,
   "metadata": {},
   "outputs": [],
   "source": [
    "Veg.run()"
   ]
  }
 ],
 "metadata": {
  "kernelspec": {
   "display_name": "cpra_env",
   "language": "python",
   "name": "python3"
  },
  "language_info": {
   "codemirror_mode": {
    "name": "ipython",
    "version": 3
   },
   "file_extension": ".py",
   "mimetype": "text/x-python",
   "name": "python",
   "nbconvert_exporter": "python",
   "pygments_lexer": "ipython3",
   "version": "3.12.5"
  }
 },
 "nbformat": 4,
 "nbformat_minor": 2
}
