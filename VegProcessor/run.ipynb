{
 "cells": [
  {
   "cell_type": "code",
   "execution_count": null,
   "metadata": {},
   "outputs": [],
   "source": [
    "import xarray as xr\n",
    "import numpy as np\n",
    "import pandas as pd\n",
    "import veg_transition\n",
    "import glob\n",
    "from pathlib import Path\n",
    "\n",
    "from veg_transition import VegTransition\n",
    "import matplotlib.pyplot as plt\n",
    "\n",
    "from hsi import HSI"
   ]
  },
  {
   "cell_type": "markdown",
   "metadata": {},
   "source": [
    "## Create analog-years scenario data"
   ]
  },
  {
   "cell_type": "code",
   "execution_count": null,
   "metadata": {},
   "outputs": [],
   "source": [
    "paths = glob.glob(\"./sequences/*.csv\")\n",
    "\n",
    "\n",
    "years_mapping = {\n",
    "    1: 2006,\n",
    "    2: 2023,\n",
    "    3: 2022,\n",
    "    4: 2021,\n",
    "    5: 2019,\n",
    "}\n",
    "\n",
    "seqs = {}\n",
    "for p in paths:\n",
    "    name = Path(p).stem\n",
    "    seqs[name] = pd.read_csv(p, skiprows=1)"
   ]
  },
  {
   "cell_type": "code",
   "execution_count": null,
   "metadata": {},
   "outputs": [],
   "source": [
    "# Define the source and output folder paths\n",
    "# source_folder = \"/Users/dillonragar/data/tmp/cpra/AMP_SimulationResults/\"\n",
    "source_folder = \"/Users/dillonragar/data/cpra/AMP_SimulationResults/base/\"\n",
    "output_folder = \"/Users/dillonragar/data/tmp/cpra/base-sequence-wet/\"\n",
    "# Generate the combined sequence\n",
    "utils.generate_combined_sequence(\n",
    "    seqs[\"wet_sequence\"],\n",
    "    years_mapping,\n",
    "    source_folder,\n",
    "    output_folder,\n",
    ")\n",
    "\n",
    "\n",
    "output_folder = \"/Users/dillonragar/data/tmp/cpra/base-sequence-dry/\"\n",
    "# Generate the combined sequence\n",
    "utils.generate_combined_sequence(\n",
    "    seqs[\"dry_sequence\"],\n",
    "    years_mapping,\n",
    "    source_folder,\n",
    "    output_folder,\n",
    ")\n",
    "\n",
    "\n",
    "output_folder = \"/Users/dillonragar/data/tmp/cpra/base-sequence-moderate/\"\n",
    "# Generate the combined sequence\n",
    "utils.generate_combined_sequence(\n",
    "    seqs[\"moderate_sequence\"],\n",
    "    years_mapping,\n",
    "    source_folder,\n",
    "    output_folder,\n",
    ")"
   ]
  },
  {
   "cell_type": "code",
   "execution_count": null,
   "metadata": {},
   "outputs": [],
   "source": [
    "# Define the source and output folder paths\n",
    "\n",
    "\n",
    "# source_folder = \"/Users/dillonragar/data/tmp/cpra/AMP_SimulationResults/\"\n",
    "source_folder = \"/Users/dillonragar/data/cpra/AMP_SimulationResults/2ft_slr/\"\n",
    "output_folder = \"/Users/dillonragar/data/tmp/cpra/2ft-slr-sequence-wet/\"\n",
    "# Generate the combined sequence\n",
    "utils.generate_combined_sequence(\n",
    "    seqs[\"wet_sequence\"],\n",
    "    years_mapping,\n",
    "    source_folder,\n",
    "    output_folder,\n",
    ")\n",
    "\n",
    "\n",
    "output_folder = \"/Users/dillonragar/data/tmp/cpra/2ft-slr-sequence-dry/\"\n",
    "# Generate the combined sequence\n",
    "utils.generate_combined_sequence(\n",
    "    seqs[\"dry_sequence\"],\n",
    "    years_mapping,\n",
    "    source_folder,\n",
    "    output_folder,\n",
    ")\n",
    "\n",
    "\n",
    "output_folder = \"/Users/dillonragar/data/tmp/cpra/2ft-slr-sequence-moderate/\"\n",
    "# Generate the combined sequence\n",
    "utils.generate_combined_sequence(\n",
    "    seqs[\"moderate_sequence\"],\n",
    "    years_mapping,\n",
    "    source_folder,\n",
    "    output_folder,\n",
    ")"
   ]
  },
  {
   "cell_type": "markdown",
   "metadata": {},
   "source": [
    "## Run VegTransition model"
   ]
  },
  {
   "cell_type": "code",
   "execution_count": null,
   "metadata": {},
   "outputs": [],
   "source": [
    "Veg = VegTransition(config_file=\"./configs/veg_config_testing.yaml\")\n",
    "Veg.run()\n",
    "Veg.post_process()"
   ]
  },
  {
   "cell_type": "code",
   "execution_count": null,
   "metadata": {},
   "outputs": [],
   "source": []
  },
  {
   "cell_type": "code",
   "execution_count": null,
   "metadata": {},
   "outputs": [],
   "source": [
    "Veg = VegTransition(config_file=\"./configs/veg_config_2ft_slr_dry.yaml\")\n",
    "Veg.run()\n",
    "Veg.post_process()"
   ]
  },
  {
   "cell_type": "code",
   "execution_count": null,
   "metadata": {},
   "outputs": [],
   "source": [
    "Veg = VegTransition(config_file=\"./configs/veg_config_2ft_slr_moderate.yaml\")\n",
    "Veg.run()\n",
    "Veg.post_process()"
   ]
  },
  {
   "cell_type": "code",
   "execution_count": null,
   "metadata": {},
   "outputs": [],
   "source": [
    "Veg = VegTransition(config_file=\"./configs/veg_config_2ft_slr_wet.yaml\")\n",
    "Veg.run()\n",
    "Veg.post_process()"
   ]
  },
  {
   "cell_type": "code",
   "execution_count": null,
   "metadata": {},
   "outputs": [],
   "source": [
    "Veg = VegTransition(config_file=\"./configs/veg_config_base_dry.yaml\")\n",
    "Veg.run()\n",
    "Veg.post_process()"
   ]
  },
  {
   "cell_type": "code",
   "execution_count": null,
   "metadata": {},
   "outputs": [],
   "source": [
    "Veg = VegTransition(config_file=\"./configs/veg_config_base_moderate.yaml\")\n",
    "Veg.run()\n",
    "Veg.post_process()"
   ]
  },
  {
   "cell_type": "code",
   "execution_count": null,
   "metadata": {},
   "outputs": [],
   "source": [
    "Veg = VegTransition(config_file=\"./configs/veg_config_base_wet.yaml\")\n",
    "Veg.run()\n",
    "Veg.post_process()"
   ]
  },
  {
   "cell_type": "code",
   "execution_count": null,
   "metadata": {},
   "outputs": [],
   "source": [
    "Veg = VegTransition(config_file=\"./configs/veg_config_1-08ft_slr_wet.yaml\")\n",
    "Veg.run()\n",
    "Veg.post_process()"
   ]
  },
  {
   "cell_type": "code",
   "execution_count": null,
   "metadata": {},
   "outputs": [],
   "source": [
    "Veg = VegTransition(\n",
    "    config_file=\"./configs/veg_config_1-08ft_slr_moderate.yaml\"\n",
    ")\n",
    "Veg.run()\n",
    "Veg.post_process()"
   ]
  },
  {
   "cell_type": "code",
   "execution_count": null,
   "metadata": {},
   "outputs": [],
   "source": [
    "Veg = VegTransition(config_file=\"./configs/veg_config_1-08ft_slr_dry.yaml\")\n",
    "Veg.run()\n",
    "Veg.post_process()"
   ]
  },
  {
   "cell_type": "markdown",
   "metadata": {},
   "source": [
    "## Run HSI models"
   ]
  },
  {
   "cell_type": "code",
   "execution_count": null,
   "metadata": {},
   "outputs": [],
   "source": [
    "hsi = HSI(config_file=\"./configs/hsi_config_1-08ft_slr_moderate.yaml\")\n",
    "hsi.run()\n",
    "hsi.post_process()"
   ]
  },
  {
   "cell_type": "code",
   "execution_count": null,
   "metadata": {},
   "outputs": [],
   "source": [
    "hsi = HSI(config_file=\"./configs/hsi_config_1-08ft_slr_wet.yaml\")\n",
    "hsi.run()\n",
    "hsi.post_process()"
   ]
  },
  {
   "cell_type": "code",
   "execution_count": null,
   "metadata": {},
   "outputs": [],
   "source": [
    "hsi = HSI(config_file=\"./configs/hsi_config_2ft_slr_dry.yaml\")\n",
    "hsi.run()\n",
    "hsi.post_process()"
   ]
  },
  {
   "cell_type": "code",
   "execution_count": null,
   "metadata": {},
   "outputs": [],
   "source": [
    "hsi = HSI(config_file=\"./configs/hsi_config_2ft_slr_moderate.yaml\")\n",
    "hsi.run()\n",
    "hsi.post_process()"
   ]
  },
  {
   "cell_type": "code",
   "execution_count": null,
   "metadata": {},
   "outputs": [],
   "source": [
    "hsi = HSI(config_file=\"./configs/hsi_config_2ft_slr_wet.yaml\")\n",
    "hsi.run()\n",
    "hsi.post_process()"
   ]
  },
  {
   "cell_type": "code",
   "execution_count": null,
   "metadata": {},
   "outputs": [],
   "source": [
    "hsi = HSI(config_file=\"./configs/hsi_config_base_dry.yaml\")\n",
    "hsi.run()\n",
    "hsi.post_process()"
   ]
  },
  {
   "cell_type": "code",
   "execution_count": null,
   "metadata": {},
   "outputs": [],
   "source": [
    "hsi = HSI(config_file=\"./configs/hsi_config_base_moderate.yaml\")\n",
    "hsi.run()\n",
    "hsi.post_process()"
   ]
  },
  {
   "cell_type": "code",
   "execution_count": null,
   "metadata": {},
   "outputs": [],
   "source": [
    "hsi = HSI(config_file=\"./configs/hsi_config_base_wet.yaml\")\n",
    "hsi.run()\n",
    "hsi.post_process()"
   ]
  },
  {
   "cell_type": "code",
   "execution_count": null,
   "metadata": {},
   "outputs": [],
   "source": []
  },
  {
   "cell_type": "code",
   "execution_count": null,
   "metadata": {},
   "outputs": [],
   "source": []
  },
  {
   "cell_type": "code",
   "execution_count": null,
   "metadata": {},
   "outputs": [],
   "source": []
  },
  {
   "cell_type": "code",
   "execution_count": null,
   "metadata": {},
   "outputs": [],
   "source": []
  },
  {
   "cell_type": "code",
   "execution_count": null,
   "metadata": {},
   "outputs": [],
   "source": []
  },
  {
   "cell_type": "code",
   "execution_count": null,
   "metadata": {},
   "outputs": [],
   "source": []
  }
 ],
 "metadata": {
  "kernelspec": {
   "display_name": "cpra_env",
   "language": "python",
   "name": "python3"
  },
  "language_info": {
   "codemirror_mode": {
    "name": "ipython",
    "version": 3
   },
   "file_extension": ".py",
   "mimetype": "text/x-python",
   "name": "python",
   "nbconvert_exporter": "python",
   "pygments_lexer": "ipython3",
   "version": "3.12.6"
  }
 },
 "nbformat": 4,
 "nbformat_minor": 2
}
