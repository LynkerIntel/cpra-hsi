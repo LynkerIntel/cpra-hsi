{
 "cells": [
  {
   "cell_type": "code",
   "execution_count": null,
   "metadata": {},
   "outputs": [],
   "source": [
    "import xarray as xr\n",
    "import numpy as np\n",
    "import pandas as pd\n",
    "import veg_transition\n",
    "import glob\n",
    "from pathlib import Path\n",
    "\n",
    "from veg_transition import VegTransition\n",
    "import matplotlib.pyplot as plt\n",
    "\n",
    "import hsi"
   ]
  },
  {
   "cell_type": "markdown",
   "metadata": {},
   "source": [
    "## Create analog-years scenario data"
   ]
  },
  {
   "cell_type": "code",
   "execution_count": null,
   "metadata": {},
   "outputs": [],
   "source": [
    "paths = glob.glob(\"./sequences/*.csv\")\n",
    "\n",
    "\n",
    "years_mapping = {\n",
    "    1: 2006,\n",
    "    2: 2023,\n",
    "    3: 2022,\n",
    "    4: 2021,\n",
    "    5: 2019,\n",
    "}\n",
    "\n",
    "seqs = {}\n",
    "for p in paths:\n",
    "    name = Path(p).stem\n",
    "    seqs[name] = pd.read_csv(p, skiprows=1)"
   ]
  },
  {
   "cell_type": "code",
   "execution_count": null,
   "metadata": {},
   "outputs": [],
   "source": [
    "# Define the source and output folder paths\n",
    "# source_folder = \"/Users/dillonragar/data/tmp/cpra/AMP_SimulationResults/\"\n",
    "source_folder = \"/Users/dillonragar/data/cpra/AMP_SimulationResults/base/\"\n",
    "output_folder = \"/Users/dillonragar/data/tmp/cpra/base-sequence-wet/\"\n",
    "# Generate the combined sequence\n",
    "utils.generate_combined_sequence(\n",
    "    seqs[\"wet_sequence\"],\n",
    "    years_mapping,\n",
    "    source_folder,\n",
    "    output_folder,\n",
    ")\n",
    "\n",
    "\n",
    "output_folder = \"/Users/dillonragar/data/tmp/cpra/base-sequence-dry/\"\n",
    "# Generate the combined sequence\n",
    "utils.generate_combined_sequence(\n",
    "    seqs[\"dry_sequence\"],\n",
    "    years_mapping,\n",
    "    source_folder,\n",
    "    output_folder,\n",
    ")\n",
    "\n",
    "\n",
    "output_folder = \"/Users/dillonragar/data/tmp/cpra/base-sequence-moderate/\"\n",
    "# Generate the combined sequence\n",
    "utils.generate_combined_sequence(\n",
    "    seqs[\"moderate_sequence\"],\n",
    "    years_mapping,\n",
    "    source_folder,\n",
    "    output_folder,\n",
    ")"
   ]
  },
  {
   "cell_type": "code",
   "execution_count": null,
   "metadata": {},
   "outputs": [],
   "source": [
    "# Define the source and output folder paths\n",
    "\n",
    "\n",
    "# source_folder = \"/Users/dillonragar/data/tmp/cpra/AMP_SimulationResults/\"\n",
    "source_folder = \"/Users/dillonragar/data/cpra/AMP_SimulationResults/2ft_slr/\"\n",
    "output_folder = \"/Users/dillonragar/data/tmp/cpra/2ft-slr-sequence-wet/\"\n",
    "# Generate the combined sequence\n",
    "utils.generate_combined_sequence(\n",
    "    seqs[\"wet_sequence\"],\n",
    "    years_mapping,\n",
    "    source_folder,\n",
    "    output_folder,\n",
    ")\n",
    "\n",
    "\n",
    "output_folder = \"/Users/dillonragar/data/tmp/cpra/2ft-slr-sequence-dry/\"\n",
    "# Generate the combined sequence\n",
    "utils.generate_combined_sequence(\n",
    "    seqs[\"dry_sequence\"],\n",
    "    years_mapping,\n",
    "    source_folder,\n",
    "    output_folder,\n",
    ")\n",
    "\n",
    "\n",
    "output_folder = \"/Users/dillonragar/data/tmp/cpra/2ft-slr-sequence-moderate/\"\n",
    "# Generate the combined sequence\n",
    "utils.generate_combined_sequence(\n",
    "    seqs[\"moderate_sequence\"],\n",
    "    years_mapping,\n",
    "    source_folder,\n",
    "    output_folder,\n",
    ")"
   ]
  },
  {
   "cell_type": "markdown",
   "metadata": {},
   "source": [
    "## Run VegTransition model"
   ]
  },
  {
   "cell_type": "code",
   "execution_count": null,
   "metadata": {},
   "outputs": [],
   "source": [
    "Veg = VegTransition(config_file=\"./configs/veg_config_testing.yaml\")"
   ]
  },
  {
   "cell_type": "code",
   "execution_count": null,
   "metadata": {},
   "outputs": [],
   "source": [
    "Veg.run()\n",
    "Veg.post_process()"
   ]
  },
  {
   "cell_type": "code",
   "execution_count": null,
   "metadata": {},
   "outputs": [],
   "source": [
    "Veg = VegTransition(config_file=\"./configs/veg_config_2ft_slr_dry.yaml\")\n",
    "Veg.run()\n",
    "Veg.post_process()"
   ]
  },
  {
   "cell_type": "code",
   "execution_count": null,
   "metadata": {},
   "outputs": [],
   "source": [
    "Veg = VegTransition(config_file=\"./configs/veg_config_2ft_slr_moderate.yaml\")\n",
    "Veg.run()\n",
    "Veg.post_process()"
   ]
  },
  {
   "cell_type": "code",
   "execution_count": null,
   "metadata": {},
   "outputs": [],
   "source": [
    "Veg = VegTransition(config_file=\"./configs/veg_config_2ft_slr_wet.yaml\")\n",
    "Veg.run()\n",
    "Veg.post_process()"
   ]
  },
  {
   "cell_type": "code",
   "execution_count": null,
   "metadata": {},
   "outputs": [],
   "source": [
    "Veg = VegTransition(config_file=\"./configs/veg_config_base_dry.yaml\")\n",
    "Veg.run()\n",
    "Veg.post_process()"
   ]
  },
  {
   "cell_type": "code",
   "execution_count": null,
   "metadata": {},
   "outputs": [],
   "source": [
    "Veg = VegTransition(config_file=\"./configs/veg_config_base_moderate.yaml\")\n",
    "Veg.run()\n",
    "Veg.post_process()"
   ]
  },
  {
   "cell_type": "code",
   "execution_count": null,
   "metadata": {},
   "outputs": [],
   "source": [
    "Veg = VegTransition(config_file=\"./configs/veg_config_base_wet.yaml\")\n",
    "Veg.run()\n",
    "Veg.post_process()"
   ]
  },
  {
   "cell_type": "markdown",
   "metadata": {},
   "source": [
    "## Run HSI models"
   ]
  },
  {
   "cell_type": "code",
   "execution_count": null,
   "metadata": {},
   "outputs": [],
   "source": [
    "HSI = hsi.HSI(config_file=\"./configs/hsi_config_testing.yaml\")"
   ]
  },
  {
   "cell_type": "code",
   "execution_count": null,
   "metadata": {},
   "outputs": [],
   "source": [
    "HSI.run()"
   ]
  },
  {
   "cell_type": "code",
   "execution_count": null,
   "metadata": {},
   "outputs": [],
   "source": [
    "plt.matshow(HSI.water_depth_monthly_mean_jan_aug)\n",
    "plt.colorbar()"
   ]
  },
  {
   "cell_type": "code",
   "execution_count": null,
   "metadata": {},
   "outputs": [],
   "source": [
    "plt.matshow(HSI.crawfish.si_2)\n",
    "plt.colorbar()"
   ]
  },
  {
   "cell_type": "code",
   "execution_count": null,
   "metadata": {},
   "outputs": [],
   "source": [
    "plt.matshow(HSI.alligator.hsi)\n",
    "plt.colorbar()"
   ]
  },
  {
   "cell_type": "code",
   "execution_count": null,
   "metadata": {},
   "outputs": [],
   "source": [
    "plt.matshow(HSI.baldeagle.hsi)\n",
    "plt.colorbar()"
   ]
  },
  {
   "cell_type": "code",
   "execution_count": null,
   "metadata": {},
   "outputs": [],
   "source": [
    "HSI.dem"
   ]
  },
  {
   "cell_type": "code",
   "execution_count": null,
   "metadata": {},
   "outputs": [],
   "source": [
    "si_1 = np.where(np.isnan(HSI.water_depth_annual_mean), np.nan, 999.0)"
   ]
  },
  {
   "cell_type": "code",
   "execution_count": null,
   "metadata": {},
   "outputs": [],
   "source": [
    "# condition 1\n",
    "mask_1 = HSI.pct_open_water < 0.2\n",
    "si_1[mask_1] = (4.5 * HSI.pct_open_water[mask_1]) + 0.1"
   ]
  },
  {
   "cell_type": "code",
   "execution_count": null,
   "metadata": {},
   "outputs": [],
   "source": [
    "plt.matshow(si_1)\n",
    "plt.colorbar()"
   ]
  }
 ],
 "metadata": {
  "kernelspec": {
   "display_name": "cpra_env",
   "language": "python",
   "name": "python3"
  },
  "language_info": {
   "codemirror_mode": {
    "name": "ipython",
    "version": 3
   },
   "file_extension": ".py",
   "mimetype": "text/x-python",
   "name": "python",
   "nbconvert_exporter": "python",
   "pygments_lexer": "ipython3",
   "version": "3.12.5"
  }
 },
 "nbformat": 4,
 "nbformat_minor": 2
}
