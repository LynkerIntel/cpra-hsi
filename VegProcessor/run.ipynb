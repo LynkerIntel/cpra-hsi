{
 "cells": [
  {
   "cell_type": "code",
   "execution_count": null,
   "metadata": {},
   "outputs": [],
   "source": [
    "import xarray as xr\n",
    "from scipy.ndimage import label\n",
    "\n",
    "import numpy as np\n",
    "import pandas as pd\n",
    "import veg_transition\n",
    "import glob\n",
    "from pathlib import Path\n",
    "\n",
    "from veg_transition import VegTransition\n",
    "import matplotlib.pyplot as plt\n",
    "\n",
    "from hsi import HSI"
   ]
  },
  {
   "cell_type": "markdown",
   "metadata": {},
   "source": [
    "## Run VegTransition model"
   ]
  },
  {
   "cell_type": "code",
   "execution_count": null,
   "metadata": {},
   "outputs": [],
   "source": [
    "Veg = VegTransition(config_file=\"./configs/veg_config_testing.yaml\")\n",
    "Veg.run()\n",
    "Veg.post_process()"
   ]
  },
  {
   "cell_type": "code",
   "execution_count": null,
   "metadata": {},
   "outputs": [],
   "source": [
    "Veg = VegTransition(config_file=\"./configs/veg_config_base_dry.yaml\")\n",
    "Veg.run()\n",
    "Veg.post_process()"
   ]
  },
  {
   "cell_type": "code",
   "execution_count": null,
   "metadata": {},
   "outputs": [],
   "source": [
    "Veg = VegTransition(config_file=\"./configs/veg_config_base_wet.yaml\")\n",
    "Veg.run()\n",
    "Veg.post_process()"
   ]
  },
  {
   "cell_type": "code",
   "execution_count": null,
   "metadata": {},
   "outputs": [],
   "source": [
    "Veg = VegTransition(config_file=\"./configs/veg_config_1-08ft_slr_wet.yaml\")\n",
    "Veg.run()\n",
    "Veg.post_process()"
   ]
  },
  {
   "cell_type": "code",
   "execution_count": null,
   "metadata": {},
   "outputs": [],
   "source": [
    "Veg = VegTransition(config_file=\"./configs/veg_config_1-08ft_slr_dry.yaml\")\n",
    "Veg.run()\n",
    "Veg.post_process()"
   ]
  },
  {
   "cell_type": "markdown",
   "metadata": {},
   "source": [
    "## Run HSI models"
   ]
  },
  {
   "cell_type": "code",
   "execution_count": null,
   "metadata": {},
   "outputs": [],
   "source": [
    "hsi = HSI(config_file=\"./configs/hsi_config_testing.yaml\")\n",
    "hsi.run()\n",
    "hsi.post_process()"
   ]
  },
  {
   "cell_type": "code",
   "execution_count": null,
   "metadata": {},
   "outputs": [],
   "source": [
    "hsi = HSI(config_file=\"./configs/hsi_config_1-08ft_slr_dry.yaml\")\n",
    "hsi.run()\n",
    "hsi.post_process()"
   ]
  },
  {
   "cell_type": "code",
   "execution_count": null,
   "metadata": {},
   "outputs": [],
   "source": [
    "hsi = HSI(config_file=\"./configs/hsi_config_1-08ft_slr_wet.yaml\")\n",
    "hsi.run()\n",
    "hsi.post_process()"
   ]
  },
  {
   "cell_type": "code",
   "execution_count": null,
   "metadata": {},
   "outputs": [],
   "source": [
    "hsi = HSI(config_file=\"./configs/hsi_config_base_dry.yaml\")\n",
    "hsi.run()\n",
    "hsi.post_process()"
   ]
  },
  {
   "cell_type": "code",
   "execution_count": null,
   "metadata": {},
   "outputs": [],
   "source": [
    "hsi = HSI(config_file=\"./configs/hsi_config_base_wet.yaml\")\n",
    "hsi.run()\n",
    "hsi.post_process()"
   ]
  },
  {
   "cell_type": "code",
   "execution_count": null,
   "metadata": {},
   "outputs": [],
   "source": []
  }
 ],
 "metadata": {
  "kernelspec": {
   "display_name": "cpra_env",
   "language": "python",
   "name": "python3"
  },
  "language_info": {
   "codemirror_mode": {
    "name": "ipython",
    "version": 3
   },
   "file_extension": ".py",
   "mimetype": "text/x-python",
   "name": "python",
   "nbconvert_exporter": "python",
   "pygments_lexer": "ipython3",
   "version": "3.12.6"
  }
 },
 "nbformat": 4,
 "nbformat_minor": 2
}
