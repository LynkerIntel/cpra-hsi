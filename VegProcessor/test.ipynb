{
 "cells": [
  {
   "cell_type": "code",
   "execution_count": 1,
   "metadata": {},
   "outputs": [],
   "source": [
    "import xarray as xr\n",
    "import numpy as np\n",
    "import pandas as pd\n",
    "import veg_transition\n",
    "\n",
    "import matplotlib.pyplot as plt"
   ]
  },
  {
   "cell_type": "code",
   "execution_count": 2,
   "metadata": {},
   "outputs": [],
   "source": [
    "# import matplotlib.pyplot as plt\n",
    "# from IPython.display import set_matplotlib_formats\n",
    "# %matplotlib inline\n",
    "# set_matplotlib_formats('svg')"
   ]
  },
  {
   "cell_type": "code",
   "execution_count": 6,
   "metadata": {},
   "outputs": [
    {
     "name": "stderr",
     "output_type": "stream",
     "text": [
      "2024-11-22 10:42:14,241 - VegTransition - INFO - [Timestep: N/A] - Loaded Configuration:\n",
      "raster_data:\n",
      "  dem_path: /Users/dillonragar/data/cpra/AMP_NGOM2_DEM_60m_Bilinear_Resample.tif\n",
      "  wse_directory_path: /Users/dillonragar/data/tmp/cpra/AMP_SimulationResults\n",
      "  veg_base_raster: /Users/dillonragar/data/cpra/AMP_10km_LULC_60m_Nearest_Resample/AMP_10kmBuffer_LULC_60m_Nearest_Resample.tif\n",
      "  veg_keys: /Users/dillonragar/data/cpra/AMP_10km_LULC_60m_Nearest_Resample/AMP_10kmBuffer_LULC_60m_Nearest_Resample.tif.vat.dbf\n",
      "  salinity_raster: null\n",
      "simulation:\n",
      "  start_date: '2021-10-01'\n",
      "  end_date: '2022-09-30'\n",
      "output:\n",
      "  output_base: /Users/dillonragar/data/cpra/\n",
      "\n",
      "2024-11-22 10:42:14,263 - VegTransition - INFO - [Timestep: N/A] - Model code version from git: 15dfd976f826278a8d30ac7040d31adb2c0172ef\n",
      "2024-11-22 10:42:14,386 - VegTransition - INFO - [Timestep: N/A] - Loaded DEM\n",
      "2024-11-22 10:42:14,517 - VegTransition - INFO - [Timestep: N/A] - Loaded initial vegetation raster\n",
      "2024-11-22 10:42:14,537 - VegTransition - INFO - [Timestep: N/A] - Loaded Vegetation Keys\n",
      "2024-11-22 10:42:14,545 - VegTransition - INFO - [Timestep: N/A] - Creating salinity from habitat defaults\n"
     ]
    }
   ],
   "source": [
    "Veg = veg_transition.VegTransition(config_file=\"./veg_config.yaml\")\n",
    "# Veg.step(pd.to_datetime(\"2021-10-01\"))"
   ]
  },
  {
   "cell_type": "code",
   "execution_count": 7,
   "metadata": {},
   "outputs": [
    {
     "name": "stderr",
     "output_type": "stream",
     "text": [
      "2024-11-22 10:42:32,195 - VegTransition - INFO - [Timestep: N/A] - Starting simulation at 2024-11-22 10:42:32. Period: 2021-10-01 - 2022-09-30\n",
      "2024-11-22 10:42:32,196 - VegTransition - INFO - [Timestep: N/A] - Running model for: 1 timesteps\n",
      "2024-11-22 10:42:32,197 - VegTransition - INFO - [Timestep: 2022-01-01] - starting timestep: 2022-01-01 00:00:00\n",
      "2024-11-22 10:42:32,670 - VegTransition - INFO - [Timestep: 2022-01-01] - Loaded HEC-RAS WSE Datset for year: 2022\n",
      "2024-11-22 10:42:48,415 - VegTransition - INFO - [Timestep: 2022-01-01] - Creating depth\n",
      "2024-11-22 10:42:48,949 - VegTransition - INFO - [Timestep: 2022-01-01] - Saved plot to /Users/dillonragar/data/cpra/VegOut_20241122_104214/20220101/All_Types_Input.png\n",
      "2024-11-22 10:42:48,950 - VegTransition - INFO - [Timestep: 2022-01-01] - Starting transitions with input type: Zone V\n",
      "2024-11-22 10:42:48,962 - VegTransition - INFO - [Timestep: 2022-01-01] - Input NaN count: 3997479\n",
      "2024-11-22 10:42:49,026 - VegTransition - INFO - [Timestep: 2022-01-01] - Output veg types: [15. 16. nan]\n",
      "2024-11-22 10:42:49,028 - VegTransition - INFO - [Timestep: 2022-01-01] - Output NaN count: 3997479\n",
      "2024-11-22 10:42:49,398 - VegTransition - INFO - [Timestep: 2022-01-01] - Saved plot to /Users/dillonragar/data/cpra/VegOut_20241122_104214/20220101/figs/zone_v/Input_-_Zone_V.png\n",
      "2024-11-22 10:42:49,758 - VegTransition - INFO - [Timestep: 2022-01-01] - Saved plot to /Users/dillonragar/data/cpra/VegOut_20241122_104214/20220101/figs/zone_v/Veg_Type_Mask_(Zone_V).png\n",
      "2024-11-22 10:42:50,138 - VegTransition - INFO - [Timestep: 2022-01-01] - Saved plot to /Users/dillonragar/data/cpra/VegOut_20241122_104214/20220101/figs/zone_v/Output_-_Updated_Veg_Types.png\n",
      "2024-11-22 10:42:50,310 - VegTransition - INFO - [Timestep: 2022-01-01] - Saved plot to /Users/dillonragar/data/cpra/VegOut_20241122_104214/20220101/figs/zone_v/Zone_V_Sum_Changes.png\n",
      "2024-11-22 10:42:50,310 - VegTransition - INFO - [Timestep: 2022-01-01] - Finished transitions with input type: Zone V\n",
      "2024-11-22 10:42:50,312 - VegTransition - INFO - [Timestep: 2022-01-01] - Starting transitions with input type: Zone IV\n",
      "2024-11-22 10:42:50,324 - VegTransition - INFO - [Timestep: 2022-01-01] - Input NaN count: 3739781\n",
      "2024-11-22 10:42:50,425 - VegTransition - INFO - [Timestep: 2022-01-01] - Output NaN count: 3739781\n",
      "2024-11-22 10:42:50,434 - VegTransition - INFO - [Timestep: 2022-01-01] - Output veg types: [16. 17. nan]\n",
      "2024-11-22 10:42:50,828 - VegTransition - INFO - [Timestep: 2022-01-01] - Saved plot to /Users/dillonragar/data/cpra/VegOut_20241122_104214/20220101/figs/zone_iv/Input_-_Zone_IV.png\n",
      "2024-11-22 10:42:51,195 - VegTransition - INFO - [Timestep: 2022-01-01] - Saved plot to /Users/dillonragar/data/cpra/VegOut_20241122_104214/20220101/figs/zone_iv/Veg_Type_Mask_(Zone_IV).png\n",
      "2024-11-22 10:42:51,591 - VegTransition - INFO - [Timestep: 2022-01-01] - Saved plot to /Users/dillonragar/data/cpra/VegOut_20241122_104214/20220101/figs/zone_iv/Output_-_Updated_Veg_Types.png\n",
      "2024-11-22 10:42:51,767 - VegTransition - INFO - [Timestep: 2022-01-01] - Saved plot to /Users/dillonragar/data/cpra/VegOut_20241122_104214/20220101/figs/zone_iv/Zone_IV_Sum_Changes.png\n",
      "2024-11-22 10:42:51,767 - VegTransition - INFO - [Timestep: 2022-01-01] - Finished transitions with input type: Zone IV\n",
      "2024-11-22 10:42:51,770 - VegTransition - INFO - [Timestep: 2022-01-01] - Starting transitions with input type: Zone III\n",
      "2024-11-22 10:42:51,782 - VegTransition - INFO - [Timestep: 2022-01-01] - Input NaN count: 3781042\n",
      "2024-11-22 10:42:51,925 - VegTransition - INFO - [Timestep: 2022-01-01] - Output veg types: [16. 17. nan]\n",
      "2024-11-22 10:42:51,927 - VegTransition - INFO - [Timestep: 2022-01-01] - Output NaN count: 3781042\n",
      "2024-11-22 10:42:52,317 - VegTransition - INFO - [Timestep: 2022-01-01] - Saved plot to /Users/dillonragar/data/cpra/VegOut_20241122_104214/20220101/figs/zone_iii/Input_-_Zone_III.png\n",
      "2024-11-22 10:42:52,672 - VegTransition - INFO - [Timestep: 2022-01-01] - Saved plot to /Users/dillonragar/data/cpra/VegOut_20241122_104214/20220101/figs/zone_iii/Veg_Type_Mask_(Zone_III).png\n",
      "2024-11-22 10:42:53,064 - VegTransition - INFO - [Timestep: 2022-01-01] - Saved plot to /Users/dillonragar/data/cpra/VegOut_20241122_104214/20220101/figs/zone_iii/Output_-_Updated_Veg_Types.png\n",
      "2024-11-22 10:42:53,235 - VegTransition - INFO - [Timestep: 2022-01-01] - Saved plot to /Users/dillonragar/data/cpra/VegOut_20241122_104214/20220101/figs/zone_iii/Zone_III_Sum_Changes.png\n",
      "2024-11-22 10:42:53,235 - VegTransition - INFO - [Timestep: 2022-01-01] - Finished transitions with input type: Zone III\n",
      "2024-11-22 10:42:53,238 - VegTransition - INFO - [Timestep: 2022-01-01] - Starting transitions with input type: Zone II\n",
      "2024-11-22 10:42:53,250 - VegTransition - INFO - [Timestep: 2022-01-01] - Input NaN count: 3678202\n",
      "2024-11-22 10:42:53,495 - VegTransition - INFO - [Timestep: 2022-01-01] - Output veg types: [17. 18. 19. nan]\n",
      "2024-11-22 10:42:53,497 - VegTransition - INFO - [Timestep: 2022-01-01] - Output NaN count: 3678202\n",
      "2024-11-22 10:42:53,887 - VegTransition - INFO - [Timestep: 2022-01-01] - Saved plot to /Users/dillonragar/data/cpra/VegOut_20241122_104214/20220101/figs/zone_ii/Input_-_Zone_II.png\n",
      "2024-11-22 10:42:54,244 - VegTransition - INFO - [Timestep: 2022-01-01] - Saved plot to /Users/dillonragar/data/cpra/VegOut_20241122_104214/20220101/figs/zone_ii/Veg_Type_Mask_(Zone_II).png\n",
      "2024-11-22 10:42:54,653 - VegTransition - INFO - [Timestep: 2022-01-01] - Saved plot to /Users/dillonragar/data/cpra/VegOut_20241122_104214/20220101/figs/zone_ii/Output_-_Updated_Veg_Types.png\n",
      "2024-11-22 10:42:54,824 - VegTransition - INFO - [Timestep: 2022-01-01] - Saved plot to /Users/dillonragar/data/cpra/VegOut_20241122_104214/20220101/figs/zone_ii/Zone_II_Sum_Changes.png\n",
      "2024-11-22 10:42:54,825 - VegTransition - INFO - [Timestep: 2022-01-01] - Finished transitions with input type: Zone II\n",
      "2024-11-22 10:42:54,832 - VegTransition - INFO - [Timestep: 2022-01-01] - Starting transitions with input type: Fresh Shrub\n",
      "2024-11-22 10:42:54,846 - VegTransition - INFO - [Timestep: 2022-01-01] - Input NaN count: 4046080\n",
      "2024-11-22 10:42:54,967 - VegTransition - INFO - [Timestep: 2022-01-01] - Output NaN count: 4046080\n",
      "2024-11-22 10:42:55,334 - VegTransition - INFO - [Timestep: 2022-01-01] - Saved plot to /Users/dillonragar/data/cpra/VegOut_20241122_104214/20220101/figs/fresh_shrub/Input_-_Fresh_Shrub.png\n",
      "2024-11-22 10:42:55,682 - VegTransition - INFO - [Timestep: 2022-01-01] - Saved plot to /Users/dillonragar/data/cpra/VegOut_20241122_104214/20220101/figs/fresh_shrub/Veg_Type_Mask_(Fresh_Shrub).png\n",
      "2024-11-22 10:42:56,243 - VegTransition - INFO - [Timestep: 2022-01-01] - Saved plot to /Users/dillonragar/data/cpra/VegOut_20241122_104214/20220101/figs/fresh_shrub/Output_-_Updated_Veg_Types.png\n",
      "2024-11-22 10:42:56,408 - VegTransition - INFO - [Timestep: 2022-01-01] - Saved plot to /Users/dillonragar/data/cpra/VegOut_20241122_104214/20220101/figs/fresh_shrub/Zone_Fresh_Shrub_Sum_Changes.png\n",
      "2024-11-22 10:42:56,409 - VegTransition - INFO - [Timestep: 2022-01-01] - Finished transitions with input type: Fresh Shrub\n",
      "2024-11-22 10:42:56,411 - VegTransition - INFO - [Timestep: 2022-01-01] - Starting transitions with input type: Fresh Marsh\n",
      "2024-11-22 10:42:56,423 - VegTransition - INFO - [Timestep: 2022-01-01] - Input NaN count: 3989823\n",
      "2024-11-22 10:42:56,651 - VegTransition - INFO - [Timestep: 2022-01-01] - Output NaN count: 3989823\n",
      "2024-11-22 10:42:57,000 - VegTransition - INFO - [Timestep: 2022-01-01] - Saved plot to /Users/dillonragar/data/cpra/VegOut_20241122_104214/20220101/figs/fresh_marsh/Input_-_Fresh_Marsh.png\n",
      "2024-11-22 10:42:57,345 - VegTransition - INFO - [Timestep: 2022-01-01] - Saved plot to /Users/dillonragar/data/cpra/VegOut_20241122_104214/20220101/figs/fresh_marsh/Veg_Type_Mask_(Fresh_Marsh).png\n",
      "2024-11-22 10:42:57,518 - VegTransition - INFO - [Timestep: 2022-01-01] - Saved plot to /Users/dillonragar/data/cpra/VegOut_20241122_104214/20220101/figs/fresh_marsh/Zone_Fresh_Marsh_Sum_Changes.png\n",
      "2024-11-22 10:42:57,519 - VegTransition - INFO - [Timestep: 2022-01-01] - Finished transitions with input type: Fresh Marsh\n",
      "2024-11-22 10:42:57,523 - VegTransition - INFO - [Timestep: 2022-01-01] - Starting transitions with input type: Intermediate Marsh\n",
      "2024-11-22 10:42:57,535 - VegTransition - INFO - [Timestep: 2022-01-01] - Input NaN count: 3956669\n",
      "2024-11-22 10:42:57,602 - VegTransition - INFO - [Timestep: 2022-01-01] - Output veg types: [21. 26. nan]\n",
      "2024-11-22 10:42:57,604 - VegTransition - INFO - [Timestep: 2022-01-01] - Output NaN count: 3956669\n",
      "2024-11-22 10:42:57,975 - VegTransition - INFO - [Timestep: 2022-01-01] - Saved plot to /Users/dillonragar/data/cpra/VegOut_20241122_104214/20220101/figs/intermediate_marsh/Zone_Intermediate_Marsh_Sum_Changes.png\n",
      "2024-11-22 10:42:57,976 - VegTransition - INFO - [Timestep: 2022-01-01] - Finished transitions with input type: Intermediate Marsh\n",
      "2024-11-22 10:42:57,978 - VegTransition - INFO - [Timestep: 2022-01-01] - Starting transitions with input type: Brackish Marsh\n",
      "2024-11-22 10:42:57,990 - VegTransition - INFO - [Timestep: 2022-01-01] - Input NaN count: 3998353\n",
      "2024-11-22 10:42:58,057 - VegTransition - INFO - [Timestep: 2022-01-01] - Output veg types: [22. 26. nan]\n",
      "2024-11-22 10:42:58,059 - VegTransition - INFO - [Timestep: 2022-01-01] - Output NaN count: 3998353\n",
      "2024-11-22 10:42:58,415 - VegTransition - INFO - [Timestep: 2022-01-01] - Saved plot to /Users/dillonragar/data/cpra/VegOut_20241122_104214/20220101/figs/brackish_marsh/Zone_Brackish_Marsh_Sum_Changes.png\n",
      "2024-11-22 10:42:58,416 - VegTransition - INFO - [Timestep: 2022-01-01] - Finished transitions with input type: Brackish Marsh\n",
      "2024-11-22 10:42:58,417 - VegTransition - INFO - [Timestep: 2022-01-01] - Starting transitions with input type: Saline Marsh\n",
      "2024-11-22 10:42:58,430 - VegTransition - INFO - [Timestep: 2022-01-01] - Input NaN count: 4069807\n",
      "2024-11-22 10:42:58,488 - VegTransition - INFO - [Timestep: 2022-01-01] - Output veg types: [23. 26. nan]\n",
      "2024-11-22 10:42:58,490 - VegTransition - INFO - [Timestep: 2022-01-01] - Output NaN count: 4069807\n",
      "2024-11-22 10:42:58,925 - VegTransition - INFO - [Timestep: 2022-01-01] - Saved plot to /Users/dillonragar/data/cpra/VegOut_20241122_104214/20220101/figs/saline_marsh/Zone_Saline_Marsh_Sum_Changes.png\n",
      "2024-11-22 10:42:58,926 - VegTransition - INFO - [Timestep: 2022-01-01] - Finished transitions with input type: Saline Marsh\n",
      "2024-11-22 10:42:58,927 - VegTransition - INFO - [Timestep: 2022-01-01] - Starting transitions with input type: Water\n",
      "2024-11-22 10:42:58,940 - VegTransition - INFO - [Timestep: 2022-01-01] - Input NaN count: 3349697\n",
      "2024-11-22 10:42:59,165 - VegTransition - INFO - [Timestep: 2022-01-01] - Output veg types: [20. 26. nan]\n",
      "2024-11-22 10:42:59,167 - VegTransition - INFO - [Timestep: 2022-01-01] - Output NaN count: 3349697\n",
      "2024-11-22 10:42:59,549 - VegTransition - INFO - [Timestep: 2022-01-01] - Saved plot to /Users/dillonragar/data/cpra/VegOut_20241122_104214/20220101/figs/water/Zone_Water_Sum_Changes.png\n",
      "2024-11-22 10:42:59,550 - VegTransition - INFO - [Timestep: 2022-01-01] - Finished transitions with input type: Water\n",
      "2024-11-22 10:42:59,605 - VegTransition - INFO - [Timestep: 2022-01-01] - Combining new vegetation types into full array.\n",
      "2024-11-22 10:42:59,633 - VegTransition - INFO - [Timestep: 2022-01-01] - Filling NaN pixels in result array with vegetation base raster.\n",
      "2024-11-22 10:42:59,747 - VegTransition - INFO - [Timestep: 2022-01-01] - Loaded initial vegetation raster\n",
      "2024-11-22 10:43:00,179 - VegTransition - INFO - [Timestep: 2022-01-01] - Saved plot to /Users/dillonragar/data/cpra/VegOut_20241122_104214/20220101/All_Types_Output.png\n",
      "2024-11-22 10:43:00,404 - VegTransition - INFO - [Timestep: 2022-01-01] - Saved plot to /Users/dillonragar/data/cpra/VegOut_20241122_104214/20220101/Timestep_Veg_Changes.png\n",
      "2024-11-22 10:43:00,419 - VegTransition - INFO - [Timestep: 2022-01-01] - Maturity incremented for unchanged veg types\n",
      "2024-11-22 10:43:00,420 - VegTransition - INFO - [Timestep: 2022-01-01] - saving state variables for timestep.\n",
      "2024-11-22 10:43:00,435 - VegTransition - INFO - [Timestep: 2022-01-01] - completed timestep: 2022-01-01 00:00:00\n",
      "2024-11-22 10:43:00,437 - VegTransition - INFO - [Timestep: N/A] - Simulation complete\n"
     ]
    }
   ],
   "source": [
    "Veg.run()"
   ]
  }
 ],
 "metadata": {
  "kernelspec": {
   "display_name": "cpra_env",
   "language": "python",
   "name": "python3"
  },
  "language_info": {
   "codemirror_mode": {
    "name": "ipython",
    "version": 3
   },
   "file_extension": ".py",
   "mimetype": "text/x-python",
   "name": "python",
   "nbconvert_exporter": "python",
   "pygments_lexer": "ipython3",
   "version": "3.12.5"
  }
 },
 "nbformat": 4,
 "nbformat_minor": 2
}
